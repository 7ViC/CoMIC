{
  "cells": [
    {
      "cell_type": "code",
      "execution_count": null,
      "metadata": {
        "id": "oOZ7Vnly1tnc"
      },
      "outputs": [],
      "source": [
        "#importing the libaries\n",
        "import pandas as pd\n",
        "import numpy as np\n",
        "import nltk\n",
        "from nltk.stem import PorterStemmer\n",
        "from nltk.corpus import stopwords\n",
        "import re\n",
        "from sklearn.neural_network import MLPClassifier\n",
        "from sklearn.feature_extraction.text import CountVectorizer\n",
        "from sklearn.feature_extraction.text import TfidfVectorizer\n",
        "from sklearn.metrics import confusion_matrix\n",
        "from sklearn.metrics import accuracy_score\n",
        "from sklearn.ensemble import RandomForestClassifier\n",
        "from sklearn.neighbors import KNeighborsClassifier\n",
        "from sklearn.tree import DecisionTreeClassifier\n",
        "from sklearn.naive_bayes import GaussianNB\n",
        "from sklearn.model_selection import train_test_split\n",
        "from scipy import stats\n",
        "from collections import Counter\n",
        "from sklearn.decomposition import TruncatedSVD\n",
        "from sklearn.svm import SVC\n",
        "import matplotlib.pyplot as plt\n",
        "from sklearn.metrics import accuracy_score\n",
        "from sklearn.metrics import confusion_matrix\n",
        "import torch\n",
        "from torch import nn\n",
        "from torch.utils.data import DataLoader, Dataset\n",
        "\n",
        "\n",
        "device = torch.device('cuda:0' if torch.cuda.is_available() else 'cpu')\n",
        "print(device)\n",
        "\n",
        "# Loading the data set (4 features)\n",
        "dataFrame = pd.read_csv(\"final_data.csv\")\n",
        "dataFrame.reset_index(drop=True)"
      ]
    },
    {
      "cell_type": "code",
      "execution_count": null,
      "metadata": {
        "id": "NcwNc7Wv11IO"
      },
      "outputs": [],
      "source": [
        "def calcLatLong(each_df):\n",
        "  train1 = each_df.iloc[:, :4]\n",
        "  train1 = train1.diff().iloc[1:, :]\n",
        "  new_names = {'head_pos_x': 'head_pos_lat', 'head_pos_y': 'head_pos_long', 'gaze_pos_x': 'gaze_pos_lat', 'gaze_pos_y': 'gaze_pos_long'}\n",
        "  train1 = train1.rename(columns=new_names)\n",
        "  train_ex = pd.concat([each_df, train1], axis=1)\n",
        "  train_ex = train_ex.iloc[1:]\n",
        "  participant_col = train_ex.pop('participant')\n",
        "  train_ex = train_ex.assign(participant=participant_col)\n",
        "  return train_ex"
      ]
    },
    {
      "cell_type": "markdown",
      "source": [
        "# **Latitude and Longitude**"
      ],
      "metadata": {
        "id": "6TPxpZheM0Bb"
      }
    },
    {
      "cell_type": "code",
      "execution_count": null,
      "metadata": {
        "id": "QmmKYlYF2Ew-"
      },
      "outputs": [],
      "source": [
        "# Feature extraction Stage 1 - Latitude and Longitude\n",
        "\n",
        "# Create a dictionary to store the dataframes for each participant\n",
        "participant_dfs = []\n",
        "\n",
        "# Iterate over the each participant \n",
        "for participant in dataFrame[\"participant\"].unique():\n",
        "    # Create a dataframe for the current participant\n",
        "    participant_df = dataFrame[dataFrame[\"participant\"] == participant]\n",
        "    # Store the participant dataframe in the dictionary with participant number as the key\n",
        "    globals()[f\"participant_{participant}_df\"] = calcLatLong(participant_df)\n",
        "    participant_dfs.append(calcLatLong(participant_df))\n",
        "\n",
        "# Concatenate all participants dataframes\n",
        "concatenated_df = pd.concat(participant_dfs)\n",
        "\n",
        "# data frame with Latitude and Longitude Features\n",
        "concatenated_df"
      ]
    },
    {
      "cell_type": "code",
      "execution_count": null,
      "metadata": {
        "id": "CjKrNgQq2Z6H"
      },
      "outputs": [],
      "source": [
        "dataFrame = concatenated_df\n",
        "dataFrame = dataFrame.reset_index(drop=True)\n",
        "dataFrame"
      ]
    },
    {
      "cell_type": "code",
      "execution_count": null,
      "metadata": {
        "id": "apEEXwAM29Um"
      },
      "outputs": [],
      "source": [
        "# seperating the features from the data set\n",
        "dataFrame\n",
        "dataFrame1 = dataFrame.iloc[:,:8]\n",
        "dataFrame1"
      ]
    },
    {
      "cell_type": "markdown",
      "source": [
        "*Frequency domain features using FFT*\n"
      ],
      "metadata": {
        "id": "s5xslrewL9AJ"
      }
    },
    {
      "cell_type": "code",
      "source": [
        "# Tried to extract frequency domain features using fft, but got very low accuracy\n",
        "# import numpy as np\n",
        "# def calculate_frequency_domain_features(row):\n",
        "\n",
        "#     readings = row.values\n",
        "#     fft = np.fft.fft(readings)\n",
        "#     frequency_domain_features = {'mean': np.abs(np.mean(fft)),\n",
        "#                                  'std': np.abs(np.std(fft)),\n",
        "#                                  'max': np.abs(np.max(fft)),\n",
        "#                                  'min': np.abs(np.min(fft))}\n",
        "#     return pd.Series(frequency_domain_features)\n",
        "# df_train = pd.concat([df_train, df_train.apply(calculate_frequency_domain_features, axis=1)], axis=1)\n",
        "\n",
        "# df_test = pd.concat([df_test, df_test.apply(calculate_frequency_domain_features, axis=1)], axis=1)"
      ],
      "metadata": {
        "id": "nKgWR4FJJy2A"
      },
      "execution_count": null,
      "outputs": []
    },
    {
      "cell_type": "markdown",
      "source": [
        "# Euclidean Distances "
      ],
      "metadata": {
        "id": "9qSnqRTOMYs2"
      }
    },
    {
      "cell_type": "code",
      "execution_count": null,
      "metadata": {
        "id": "36HnJqzo4HOK"
      },
      "outputs": [],
      "source": [
        "# Feature extraction Stage 2 - Euclidean Distance between the Head Position in consecutive frames of each user\n",
        "\n",
        "column5 = dataFrame1.iloc[:, 4]  \n",
        "column6 = dataFrame1.iloc[:, 5]  # Square the values of the columns\n",
        "column5_squared = np.square(column5)\n",
        "column6_squared = np.square(column6)\n",
        "sum_squared = column5_squared + column6_squared\n",
        "# Take the square root of the sum\n",
        "euclid_head = np.sqrt(sum_squared)\n",
        "dataFrame1[\"euclid_head\"] = euclid_head\n",
        "dataFrame1"
      ]
    },
    {
      "cell_type": "code",
      "execution_count": null,
      "metadata": {
        "id": "V2MryEEt4c6O"
      },
      "outputs": [],
      "source": [
        "# Feature extraction Stage 2 - Euclidean Distance between the Eye Position in consecutive frames of each user\n",
        "\n",
        "column7 = dataFrame1.iloc[:, 6]  \n",
        "column8 = dataFrame1.iloc[:, 7]  # Square the values of the columns\n",
        "column7_squared = np.square(column7)\n",
        "column8_squared = np.square(column8)\n",
        "sum_squared = column7_squared + column8_squared\n",
        "# Take the square root of the sum\n",
        "euclid_gaze = np.sqrt(sum_squared)\n",
        "dataFrame1[\"euclid_gaze\"] = euclid_gaze\n",
        "dataFrame1"
      ]
    },
    {
      "cell_type": "code",
      "execution_count": null,
      "metadata": {
        "id": "kpq3I1C842V0"
      },
      "outputs": [],
      "source": [
        "# All features related to head and gaze motion\n",
        "# X - features and y - labels\n",
        "X = dataFrame1.iloc[:,0:10]\n",
        "y = dataFrame.iloc[:,8]\n",
        "\n",
        "X['participant']  = y"
      ]
    },
    {
      "cell_type": "markdown",
      "source": [
        "Below two cells selects data seperately for analysing accuracies "
      ],
      "metadata": {
        "id": "7bfqikoANG0n"
      }
    },
    {
      "cell_type": "code",
      "execution_count": null,
      "metadata": {
        "id": "966oPgllI_23"
      },
      "outputs": [],
      "source": [
        "# # Un-comment before running the code to see Accuracies when only eye data is used to train the models \n",
        "# # Only features related to head motion\n",
        "# X = X[['head_pos_x', 'head_pos_y','head_pos_lat','head_pos_long','euclid_head','participant']]\n",
        "# X\n"
      ]
    },
    {
      "cell_type": "code",
      "execution_count": null,
      "metadata": {
        "id": "KUaa2BBhI_24"
      },
      "outputs": [],
      "source": [
        "# # Un-comment before running the code to see Accuracies when only gaze data is used to train the models \n",
        "# # Only features related to gaze motion\n",
        "# X = X[['gaze_pos_x', 'gaze_pos_y','gaze_pos_lat','gaze_pos_long','euclid_gaze','participant']]\n",
        "# X\n"
      ]
    },
    {
      "cell_type": "code",
      "execution_count": null,
      "metadata": {
        "id": "B8DQ4E7D47gq"
      },
      "outputs": [],
      "source": [
        "# Splitting to test and train\n",
        "from sklearn.model_selection import train_test_split\n",
        "# X_train, X_test, y_train, y_test = train_test_split(X,y,test_size=0.25)\n",
        "train, test = train_test_split(X, test_size = 0.25, random_state = 42)\n",
        "train = train.reset_index(drop = True)\n",
        "test = test.reset_index(drop = True)"
      ]
    },
    {
      "cell_type": "code",
      "execution_count": null,
      "metadata": {
        "id": "AT-wK3vmm8Ad"
      },
      "outputs": [],
      "source": [
        "X_train = train.iloc[:, :-1]\n",
        "y_train = train.iloc[:, -1]\n",
        "X_test = test.iloc[:, :-1]\n",
        "y_test = test.iloc[: ,-1]"
      ]
    },
    {
      "cell_type": "markdown",
      "source": [
        "### **KNN MODEL**"
      ],
      "metadata": {
        "id": "QT7LX3Z8N2IY"
      }
    },
    {
      "cell_type": "code",
      "execution_count": null,
      "metadata": {
        "id": "wxtbk8Eb9J2o"
      },
      "outputs": [],
      "source": [
        "# Best model for our project\n",
        "# Initializing and Training the KNN model with the train data\n",
        "knnClassifier = KNeighborsClassifier(n_neighbors=1)\n",
        "knnClassifier.fit(X_train, y_train)\n",
        "\n",
        "# Predicting the users for test data\n",
        "y_pred2 = knnClassifier.predict(X_test)\n",
        "\n",
        "# Prediction accuracy\n",
        "accuracy = accuracy_score(y_test,y_pred2)\n",
        "print(f\"KNN Classifier Accuarcy ==> {accuracy} \")"
      ]
    },
    {
      "cell_type": "markdown",
      "source": [
        "### **DecisionTreeClassifier**"
      ],
      "metadata": {
        "id": "JRt7p6IqOX88"
      }
    },
    {
      "cell_type": "code",
      "execution_count": null,
      "metadata": {
        "id": "Rr8J7HLRi6Av"
      },
      "outputs": [],
      "source": [
        "from sklearn.tree import DecisionTreeClassifier\n",
        "clf = DecisionTreeClassifier()\n",
        "clf.fit(X_train, y_train)\n",
        "predictions = clf.predict(X_test)\n",
        "accuracy = accuracy_score(y_test, predictions)\n",
        "print(f\"DecisionTreeClassifier Accuarcy ==> {accuracy} \")"
      ]
    },
    {
      "cell_type": "markdown",
      "source": [
        "### **GaussianNB**"
      ],
      "metadata": {
        "id": "2zJAghUSOpNH"
      }
    },
    {
      "cell_type": "code",
      "execution_count": null,
      "metadata": {
        "id": "5Q4dtx5z9ceC"
      },
      "outputs": [],
      "source": [
        "from sklearn.naive_bayes import GaussianNB\n",
        "clf = GaussianNB()\n",
        "clf.fit(X_train, y_train)\n",
        "predictions = clf.predict(X_test)\n",
        "accuracy = accuracy_score(y_test, predictions)\n",
        "print(f\"GaussianNB Accuarcy ==> {accuracy} \")"
      ]
    },
    {
      "cell_type": "markdown",
      "source": [
        "### **Deep Neural Networks**"
      ],
      "metadata": {
        "id": "jUlIp1O4PMuS"
      }
    },
    {
      "cell_type": "code",
      "execution_count": null,
      "metadata": {
        "id": "08moHxu3kfmi"
      },
      "outputs": [],
      "source": [
        "class MyDataset(Dataset):\n",
        "\n",
        "    def __init__(self, df):\n",
        "        x = df.iloc[:, :-1].values\n",
        "        y = df.iloc[:, -1].values\n",
        "\n",
        "        self.x_train = torch.tensor(x, dtype=torch.float32)\n",
        "        self.y_train = torch.tensor(y, dtype=torch.float32)\n",
        "\n",
        "    def __len__(self):\n",
        "        return len(self.y_train)\n",
        "\n",
        "    def __getitem__(self, idx):\n",
        "        return self.x_train[idx], self.y_train[idx]"
      ]
    },
    {
      "cell_type": "code",
      "execution_count": null,
      "metadata": {
        "id": "KHdsoWllluK5"
      },
      "outputs": [],
      "source": [
        "train_set = MyDataset(train)\n",
        "train_loader = DataLoader(train_set, batch_size=128, shuffle=True)\n",
        "test_set = MyDataset(test)\n",
        "test_loader = DataLoader(test_set, batch_size=128, shuffle=False)\n"
      ]
    },
    {
      "cell_type": "code",
      "execution_count": null,
      "metadata": {
        "id": "SAJ_hocaly_6"
      },
      "outputs": [],
      "source": [
        "class NeuralNetwork(nn.Module):\n",
        "    def __init__(self):\n",
        "        super().__init__()\n",
        "        self.fc1 = nn.Linear(10, 128)\n",
        "        self.fc2 = nn.Linear(128, 64)\n",
        "        self.fc3 = nn.Linear(64, 45)\n",
        "        self.relu = nn.ReLU()\n",
        "        self.softmax = nn.Softmax(dim = 1)\n",
        "        self.dropout1 = nn.Dropout(0.2)\n",
        "        self.dropout2 = nn.Dropout(0.1)\n",
        "\n",
        "    def forward(self, x):\n",
        "        out = self.relu(self.fc1(x))\n",
        "        out = self.dropout1(out)\n",
        "        out = self.relu(self.fc2(out))\n",
        "        out = self.dropout2(out)\n",
        "        out = self.fc3(out)\n",
        "        return self.softmax(out)"
      ]
    },
    {
      "cell_type": "code",
      "execution_count": null,
      "metadata": {
        "id": "Dl1UQMCdpojO"
      },
      "outputs": [],
      "source": [
        "model = NeuralNetwork().to(device)\n",
        "loss_func = nn.CrossEntropyLoss()\n",
        "optimizer = torch.optim.Adam(model.parameters(), lr=0.001)"
      ]
    },
    {
      "cell_type": "code",
      "execution_count": null,
      "metadata": {
        "id": "bJHjFrdMprXt"
      },
      "outputs": [],
      "source": [
        "def Train(model, epochs, train_loader, optimizer, loss_func):\n",
        "  for epoch in range(epochs):\n",
        "      train_loss = 0\n",
        "      train_acc = 0\n",
        "      for batch_index, (input, target) in enumerate(train_loader):\n",
        "          input = input.to(device)\n",
        "          target = target.to(device)\n",
        "          output = model(input)\n",
        "          output_labels = torch.argmax(output, dim=1)\n",
        "          # print(output_labels.shape)\n",
        "          target = target - 1\n",
        "          optimizer.zero_grad()\n",
        "          loss = loss_func(output, target.long())\n",
        "\n",
        "\n",
        "          loss.backward()\n",
        "          optimizer.step()\n",
        "          \n",
        "\n",
        "          train_loss += loss.item()\n",
        "\n",
        "          train_acc += torch.sum(output_labels == target.long())\n",
        "\n",
        "\n",
        "      print('Train Epoch: {} Train Loss: {:.3f} Train Accuracy: {:.2f}'.format(epoch, train_loss/len(train), (train_acc/len(train)) * 100))\n",
        "      \n",
        "  return model"
      ]
    },
    {
      "cell_type": "code",
      "execution_count": null,
      "metadata": {
        "id": "RZp2_fyGpuCb"
      },
      "outputs": [],
      "source": [
        "def eval(model, test_loader, loss_func):\n",
        "    test_loss = 0\n",
        "    test_acc = 0\n",
        "    for batch_index, (input, target) in enumerate(test_loader):\n",
        "        input = input.to(device)\n",
        "        target = target.to(device)\n",
        "        output = model(input)\n",
        "        output_labels = torch.argmax(output, dim=1)\n",
        "        target = target - 1\n",
        "        loss = loss_func(output, target.long())\n",
        "\n",
        "        test_loss += loss.item()\n",
        "\n",
        "        test_acc += torch.sum(output_labels == target)\n",
        "\n",
        "\n",
        "    print('Test Loss: {:.3f} Test Accuracy: {:.2f}'.format(test_loss/len(test), 100*(test_acc/len(test))))\n"
      ]
    },
    {
      "cell_type": "code",
      "execution_count": null,
      "metadata": {
        "id": "V7uqiuqkpwwj"
      },
      "outputs": [],
      "source": [
        "epochs = 10\n",
        "model_trained = Train(model.train(), epochs, train_loader, optimizer, loss_func)"
      ]
    },
    {
      "cell_type": "code",
      "execution_count": null,
      "metadata": {
        "id": "rR7_EpWApzYt"
      },
      "outputs": [],
      "source": [
        " eval(model_trained.eval(), test_loader, loss_func)"
      ]
    },
    {
      "cell_type": "markdown",
      "metadata": {
        "id": "in8YHWXIq1Bx"
      },
      "source": [
        "# **Rocket Classifier**"
      ]
    },
    {
      "cell_type": "code",
      "execution_count": null,
      "metadata": {
        "colab": {
          "base_uri": "https://localhost:8080/"
        },
        "id": "6cb3hKLFp19H",
        "outputId": "51719695-8ae1-4e5a-8e88-45cf9b2974c4"
      },
      "outputs": [
        {
          "name": "stdout",
          "output_type": "stream",
          "text": [
            "Requirement already satisfied: sktime in c:\\users\\ayaanehsan mohammed\\appdata\\local\\programs\\python\\python310\\lib\\site-packages (0.17.1)\n",
            "Requirement already satisfied: numpy<1.25,>=1.21.0 in c:\\users\\ayaanehsan mohammed\\appdata\\local\\programs\\python\\python310\\lib\\site-packages (from sktime) (1.23.2)\n",
            "Requirement already satisfied: numba>=0.53 in c:\\users\\ayaanehsan mohammed\\appdata\\local\\programs\\python\\python310\\lib\\site-packages (from sktime) (0.56.4)\n",
            "Requirement already satisfied: pandas<2.0.0,>=1.1.0 in c:\\users\\ayaanehsan mohammed\\appdata\\local\\programs\\python\\python310\\lib\\site-packages (from sktime) (1.4.4)\n",
            "Requirement already satisfied: deprecated>=1.2.13 in c:\\users\\ayaanehsan mohammed\\appdata\\local\\programs\\python\\python310\\lib\\site-packages (from sktime) (1.2.13)\n",
            "Requirement already satisfied: scipy<2.0.0,>=1.2.0 in c:\\users\\ayaanehsan mohammed\\appdata\\local\\programs\\python\\python310\\lib\\site-packages (from sktime) (1.10.1)\n",
            "Requirement already satisfied: scikit-learn<1.3.0,>=0.24.0 in c:\\users\\ayaanehsan mohammed\\appdata\\local\\programs\\python\\python310\\lib\\site-packages (from sktime) (1.2.1)\n",
            "Requirement already satisfied: wrapt<2,>=1.10 in c:\\users\\ayaanehsan mohammed\\appdata\\local\\programs\\python\\python310\\lib\\site-packages (from deprecated>=1.2.13->sktime) (1.14.1)\n",
            "Requirement already satisfied: llvmlite<0.40,>=0.39.0dev0 in c:\\users\\ayaanehsan mohammed\\appdata\\local\\programs\\python\\python310\\lib\\site-packages (from numba>=0.53->sktime) (0.39.1)\n",
            "Requirement already satisfied: setuptools in c:\\users\\ayaanehsan mohammed\\appdata\\local\\programs\\python\\python310\\lib\\site-packages (from numba>=0.53->sktime) (63.2.0)\n",
            "Requirement already satisfied: python-dateutil>=2.8.1 in c:\\users\\ayaanehsan mohammed\\appdata\\local\\programs\\python\\python310\\lib\\site-packages (from pandas<2.0.0,>=1.1.0->sktime) (2.8.2)\n",
            "Requirement already satisfied: pytz>=2020.1 in c:\\users\\ayaanehsan mohammed\\appdata\\local\\programs\\python\\python310\\lib\\site-packages (from pandas<2.0.0,>=1.1.0->sktime) (2022.2.1)\n",
            "Requirement already satisfied: threadpoolctl>=2.0.0 in c:\\users\\ayaanehsan mohammed\\appdata\\local\\programs\\python\\python310\\lib\\site-packages (from scikit-learn<1.3.0,>=0.24.0->sktime) (3.1.0)\n",
            "Requirement already satisfied: joblib>=1.1.1 in c:\\users\\ayaanehsan mohammed\\appdata\\local\\programs\\python\\python310\\lib\\site-packages (from scikit-learn<1.3.0,>=0.24.0->sktime) (1.2.0)\n",
            "Requirement already satisfied: six>=1.5 in c:\\users\\ayaanehsan mohammed\\appdata\\local\\programs\\python\\python310\\lib\\site-packages (from python-dateutil>=2.8.1->pandas<2.0.0,>=1.1.0->sktime) (1.16.0)\n"
          ]
        },
        {
          "name": "stderr",
          "output_type": "stream",
          "text": [
            "\n",
            "[notice] A new release of pip is available: 23.0.1 -> 23.1.2\n",
            "[notice] To update, run: python.exe -m pip install --upgrade pip\n"
          ]
        }
      ],
      "source": [
        "!pip install sktime\n",
        "from sktime.classification.kernel_based import RocketClassifier\n"
      ]
    },
    {
      "cell_type": "code",
      "execution_count": null,
      "metadata": {
        "id": "QsXfHX-0rGHL"
      },
      "outputs": [],
      "source": [
        "clf = RocketClassifier(num_kernels=500) \n",
        "temp_train = train.iloc[:100000, :-1].values\n",
        "temp_label = train.iloc[:100000, -1]\n",
        "temp_test = test.iloc[:, :-1].values\n",
        "temp_label_test = test.iloc[:, -1]\n",
        "clf.fit(temp_train, temp_label) \n",
        "y_pred = clf.predict(temp_test) \n",
        "from sklearn.metrics import accuracy_score\n",
        "acc = accuracy_score(y_pred, temp_label_test)\n",
        "print(\"accuracy : \" + str(acc))"
      ]
    },
    {
      "cell_type": "markdown",
      "source": [
        "*Below are some models we are trying to work after the presentation, but not complete*"
      ],
      "metadata": {
        "id": "QBcprmi0QqRe"
      }
    },
    {
      "cell_type": "code",
      "source": [
        "#RandomForestClassifier\n",
        "# from sklearn.ensemble import RandomForestClassifier\n",
        "\n",
        "# # Create a Random Forest classifier with 100 trees\n",
        "# rf = RandomForestClassifier(n_estimators=100, random_state=42)\n",
        "# rf.fit(X_train, y_train)\n",
        "# y_pred = rf.predict(X_test)\n",
        "# accuracy = accuracy_score(y_test, y_pred)\n",
        "# print('Random Forest Classifier Accuracy ==>', accuracy)\n",
        "\n",
        "\n",
        "\n",
        "# SVM\n",
        "# from sklearn.svm import SVC\n",
        "\n",
        "# # Create an SVM classifier with a linear kernel\n",
        "# svm = SVC(kernel='linear')\n",
        "# svm.fit(X_train, y_train)\n",
        "# y_pred = svm.predict(X_test)\n",
        "\n",
        "# # Calculate accuracy, precision, recall, and F1 score\n",
        "# accuracy = accuracy_score(y_test, y_pred)\n",
        "# print('SVM Accuracy ==> ', accuracy)\n",
        "\n",
        "\n",
        "\n",
        "#LogisticRegression\n",
        "# from sklearn.linear_model import LogisticRegression\n",
        "\n",
        "# # Create an LogisticRegression classifier model\n",
        "# logistic = LogisticRegression()\n",
        "# logistic.fit(X_train, y_train)\n",
        "# y_pred = logistic.predict(X_test)\n",
        "\n",
        "# # Calculate accuracy,\n",
        "# accuracy = accuracy_score(y_test, y_pred)\n",
        "# print('Logistic Regression Accuracy ==> ', accuracy)\n"
      ],
      "metadata": {
        "id": "Xz-tgCkSQW-h"
      },
      "execution_count": null,
      "outputs": []
    }
  ],
  "metadata": {
    "accelerator": "GPU",
    "colab": {
      "gpuType": "T4",
      "provenance": []
    },
    "gpuClass": "standard",
    "kernelspec": {
      "display_name": "Python 3",
      "name": "python3"
    },
    "language_info": {
      "codemirror_mode": {
        "name": "ipython",
        "version": 3
      },
      "file_extension": ".py",
      "mimetype": "text/x-python",
      "name": "python",
      "nbconvert_exporter": "python",
      "pygments_lexer": "ipython3",
      "version": "3.10.6"
    }
  },
  "nbformat": 4,
  "nbformat_minor": 0
}