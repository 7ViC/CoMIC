{
 "cells": [
  {
   "cell_type": "code",
   "execution_count": null,
   "id": "79613e41",
   "metadata": {},
   "outputs": [],
   "source": [
    "import numpy as np\n",
    "import cv2\n",
    "\n",
    "# Define the 3D-3D PnP function\n",
    "def p3p_3d_3d(points_3d_src, points_3d_dst):\n",
    "\n",
    "    # Normalize the 3D points to have zero mean and unit variance\n",
    "    src_mean = np.mean(points_3d_src, axis=0)\n",
    "    src_std = np.std(points_3d_src)\n",
    "    dst_mean = np.mean(points_3d_dst, axis=0)\n",
    "    dst_std = np.std(points_3d_dst)\n",
    "\n",
    "    points_3d_src_norm = (points_3d_src - src_mean) / src_std\n",
    "    points_3d_dst_norm = (points_3d_dst - dst_mean) / dst_std\n",
    "\n",
    "    # Compute the similarity transform between the normalized 3D points\n",
    "    H = np.dot(points_3d_src_norm.T, points_3d_dst_norm)\n",
    "    U, s, Vt = np.linalg.svd(H)\n",
    "    R = np.dot(U, Vt)\n",
    "    t = dst_mean - np.dot(R, src_mean)\n",
    "\n",
    "    # Return the estimated rotation and translation\n",
    "    return R, t\n",
    "\n",
    "# Example usage\n",
    "points_3d_src = np.array([[0, 0, 0], [1, 0, 0], [0, 1, 0], [0, 0, 1]], dtype=np.float32)\n",
    "points_3d_dst = np.array([[1, 1, 1], [2, 1, 1], [1, 2, 1], [1, 1, 2]], dtype=np.float32)\n",
    "\n",
    "R, t = p3p_3d_3d(points_3d_src, points_3d_dst)\n",
    "print(\"Rotation:\\n\", R)\n",
    "print(\"Translation:\\n\", t)"
   ]
  }
 ],
 "metadata": {
  "kernelspec": {
   "display_name": "Python 3 (ipykernel)",
   "language": "python",
   "name": "python3"
  },
  "language_info": {
   "codemirror_mode": {
    "name": "ipython",
    "version": 3
   },
   "file_extension": ".py",
   "mimetype": "text/x-python",
   "name": "python",
   "nbconvert_exporter": "python",
   "pygments_lexer": "ipython3",
   "version": "3.8.3"
  }
 },
 "nbformat": 4,
 "nbformat_minor": 5
}
