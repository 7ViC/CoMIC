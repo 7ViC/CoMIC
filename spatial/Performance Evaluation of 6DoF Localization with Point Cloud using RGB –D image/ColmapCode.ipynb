{
 "cells": [
  {
   "cell_type": "code",
   "execution_count": null,
   "id": "3748b562",
   "metadata": {},
   "outputs": [],
   "source": [
    "#to process rgb-d data\n",
    "import os\n",
    "import colmap\n",
    "\n",
    "# Set the paths to the images and the depth maps\n",
    "image_path = \"/path/to/images\"\n",
    "depth_path = \"/path/to/depth/maps\"\n",
    "\n",
    "# Initialize a new Colmap project\n",
    "project_path = \"/path/to/project\"\n",
    "database_path = os.path.join(project_path, \"database.db\")\n",
    "os.makedirs(project_path, exist_ok=True)\n",
    "colmap.database.connect(database_path)\n",
    "colmap.database.create_tables()\n",
    "\n",
    "# Add the images to the project\n",
    "colmap.command('colmap', 'feature_extractor',\n",
    "               '--database_path', database_path,\n",
    "               '--image_path', image_path,\n",
    "               '--image_reader', 'opencv',\n",
    "               '--max_image_size', '4000',\n",
    "               '--SiftExtraction.use_gpu', '0')\n",
    "colmap.command('colmap', 'exhaustive_matcher',\n",
    "               '--database_path', database_path)\n",
    "\n",
    "# Add the depth maps to the project\n",
    "colmap.command('colmap', 'stereo',\n",
    "               '--database_path', database_path,\n",
    "               '--image_path', image_path,\n",
    "               '--input_depth_maps_path', depth_path,\n",
    "               '--output_path', project_path,\n",
    "               '--output_dense_path', project_path)\n",
    "\n",
    "# Run the dense reconstruction\n",
    "colmap.command('colmap', 'dense_reconstructor',\n",
    "               '--database_path', database_path,\n",
    "               '--image_path', image_path,\n",
    "               '--input_depth_maps_path', depth_path,\n",
    "               '--output_path', project_path,\n",
    "               '--output_dense_path', project_path)\n"
   ]
  },
  {
   "cell_type": "code",
   "execution_count": null,
   "id": "353b476b",
   "metadata": {},
   "outputs": [],
   "source": [
    "#to process rgb data\n",
    "import subprocess\n",
    "\n",
    "# Define paths to images and output directory\n",
    "image_path = \"/path/to/images/\"\n",
    "output_path = \"/path/to/output/\"\n",
    "\n",
    "# Run COLMAP feature extraction\n",
    "subprocess.run([\"colmap\", \"feature_extractor\", \"--image_path\", image_path, \"--database_path\", \n",
    "                output_path + \"database.db\"])\n",
    "\n",
    "# Run COLMAP image matching\n",
    "subprocess.run([\"colmap\", \"exhaustive_matcher\", \"--database_path\", output_path + \"database.db\"])\n",
    "\n",
    "# Run COLMAP sparse reconstruction\n",
    "subprocess.run([\"colmap\", \"mapper\", \"--database_path\", output_path + \"database.db\", \"--image_path\", \n",
    "                image_path, \"--output_path\", output_path])"
   ]
  }
 ],
 "metadata": {
  "kernelspec": {
   "display_name": "Python 3 (ipykernel)",
   "language": "python",
   "name": "python3"
  },
  "language_info": {
   "codemirror_mode": {
    "name": "ipython",
    "version": 3
   },
   "file_extension": ".py",
   "mimetype": "text/x-python",
   "name": "python",
   "nbconvert_exporter": "python",
   "pygments_lexer": "ipython3",
   "version": "3.10.9"
  }
 },
 "nbformat": 4,
 "nbformat_minor": 5
}
